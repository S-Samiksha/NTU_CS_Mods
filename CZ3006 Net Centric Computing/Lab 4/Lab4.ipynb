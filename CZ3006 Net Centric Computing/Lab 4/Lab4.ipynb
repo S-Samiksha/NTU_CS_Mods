{
 "cells": [
  {
   "cell_type": "markdown",
   "metadata": {},
   "source": [
    "### CZ3006 Lab 4 \n",
    "Aim: Doing basic analysis of data log \n"
   ]
  },
  {
   "cell_type": "code",
   "execution_count": 1,
   "metadata": {},
   "outputs": [],
   "source": [
    "# Basic Libraries\n",
    "import numpy as np\n",
    "import pandas as pd"
   ]
  },
  {
   "cell_type": "markdown",
   "metadata": {},
   "source": [
    "#### Creating the dataframe using pandas library\n",
    "1. list the column names required \n",
    "2. import the csv adding in the column names "
   ]
  },
  {
   "cell_type": "code",
   "execution_count": 2,
   "metadata": {
    "scrolled": true
   },
   "outputs": [
    {
     "data": {
      "text/html": [
       "<div>\n",
       "<style scoped>\n",
       "    .dataframe tbody tr th:only-of-type {\n",
       "        vertical-align: middle;\n",
       "    }\n",
       "\n",
       "    .dataframe tbody tr th {\n",
       "        vertical-align: top;\n",
       "    }\n",
       "\n",
       "    .dataframe thead th {\n",
       "        text-align: right;\n",
       "    }\n",
       "</style>\n",
       "<table border=\"1\" class=\"dataframe\">\n",
       "  <thead>\n",
       "    <tr style=\"text-align: right;\">\n",
       "      <th></th>\n",
       "      <th>Type</th>\n",
       "      <th>sflow_agent_address</th>\n",
       "      <th>inputPort</th>\n",
       "      <th>outputPort</th>\n",
       "      <th>src_Mac</th>\n",
       "      <th>dst_Mac</th>\n",
       "      <th>ethernet_type</th>\n",
       "      <th>in_vlan</th>\n",
       "      <th>out_vlan</th>\n",
       "      <th>src_ip</th>\n",
       "      <th>dst_ip</th>\n",
       "      <th>IP_protocol</th>\n",
       "      <th>ip_tos</th>\n",
       "      <th>ip_ttl</th>\n",
       "      <th>upd_src_port/tcp_src_port</th>\n",
       "      <th>udp_dst_port/tcp_dst_port</th>\n",
       "      <th>tcp_flags</th>\n",
       "      <th>packet_size</th>\n",
       "      <th>IP_Size</th>\n",
       "      <th>sampling_rate</th>\n",
       "    </tr>\n",
       "  </thead>\n",
       "  <tbody>\n",
       "    <tr>\n",
       "      <th>0</th>\n",
       "      <td>FLOW</td>\n",
       "      <td>aa.aa.aa.aa</td>\n",
       "      <td>137</td>\n",
       "      <td>200</td>\n",
       "      <td>d404ff55fd4d</td>\n",
       "      <td>80711fc76001</td>\n",
       "      <td>0x0800</td>\n",
       "      <td>919.0</td>\n",
       "      <td>280</td>\n",
       "      <td>130.246.176.22</td>\n",
       "      <td>140.115.32.81</td>\n",
       "      <td>6</td>\n",
       "      <td>0x00</td>\n",
       "      <td>50</td>\n",
       "      <td>51216.0</td>\n",
       "      <td>23505</td>\n",
       "      <td>0x10</td>\n",
       "      <td>1518</td>\n",
       "      <td>1500</td>\n",
       "      <td>2048</td>\n",
       "    </tr>\n",
       "    <tr>\n",
       "      <th>1</th>\n",
       "      <td>FLOW</td>\n",
       "      <td>aa.aa.aa.aa</td>\n",
       "      <td>129</td>\n",
       "      <td>193</td>\n",
       "      <td>609c9f851b00</td>\n",
       "      <td>0031466b23cf</td>\n",
       "      <td>0x0800</td>\n",
       "      <td>11.0</td>\n",
       "      <td>919</td>\n",
       "      <td>155.69.160.32</td>\n",
       "      <td>64.233.188.128</td>\n",
       "      <td>6</td>\n",
       "      <td>0x00</td>\n",
       "      <td>56</td>\n",
       "      <td>23159.0</td>\n",
       "      <td>80</td>\n",
       "      <td>0x10</td>\n",
       "      <td>74</td>\n",
       "      <td>52</td>\n",
       "      <td>2048</td>\n",
       "    </tr>\n",
       "    <tr>\n",
       "      <th>2</th>\n",
       "      <td>FLOW</td>\n",
       "      <td>aa.aa.aa.aa</td>\n",
       "      <td>137</td>\n",
       "      <td>200</td>\n",
       "      <td>d404ff55fd4d</td>\n",
       "      <td>80711fc76001</td>\n",
       "      <td>0x0800</td>\n",
       "      <td>919.0</td>\n",
       "      <td>280</td>\n",
       "      <td>130.246.176.53</td>\n",
       "      <td>140.115.32.83</td>\n",
       "      <td>6</td>\n",
       "      <td>0x00</td>\n",
       "      <td>50</td>\n",
       "      <td>50041.0</td>\n",
       "      <td>20739</td>\n",
       "      <td>0x10</td>\n",
       "      <td>1518</td>\n",
       "      <td>1500</td>\n",
       "      <td>2048</td>\n",
       "    </tr>\n",
       "    <tr>\n",
       "      <th>3</th>\n",
       "      <td>FLOW</td>\n",
       "      <td>aa.aa.aa.aa</td>\n",
       "      <td>129</td>\n",
       "      <td>135</td>\n",
       "      <td>609c9f851b00</td>\n",
       "      <td>002688cd5fc7</td>\n",
       "      <td>0x0800</td>\n",
       "      <td>11.0</td>\n",
       "      <td>919</td>\n",
       "      <td>155.69.160.32</td>\n",
       "      <td>54.169.174.79</td>\n",
       "      <td>17</td>\n",
       "      <td>0x00</td>\n",
       "      <td>120</td>\n",
       "      <td>54241.0</td>\n",
       "      <td>26510</td>\n",
       "      <td>0x10</td>\n",
       "      <td>116</td>\n",
       "      <td>94</td>\n",
       "      <td>2048</td>\n",
       "    </tr>\n",
       "    <tr>\n",
       "      <th>4</th>\n",
       "      <td>FLOW</td>\n",
       "      <td>aa.aa.aa.aa</td>\n",
       "      <td>130</td>\n",
       "      <td>199</td>\n",
       "      <td>00239cd087c1</td>\n",
       "      <td>544b8cf9a7df</td>\n",
       "      <td>0x0800</td>\n",
       "      <td>919.0</td>\n",
       "      <td>600</td>\n",
       "      <td>137.132.228.15</td>\n",
       "      <td>193.62.192.8</td>\n",
       "      <td>6</td>\n",
       "      <td>0x00</td>\n",
       "      <td>56</td>\n",
       "      <td>53923.0</td>\n",
       "      <td>34262</td>\n",
       "      <td>0x10</td>\n",
       "      <td>70</td>\n",
       "      <td>52</td>\n",
       "      <td>2048</td>\n",
       "    </tr>\n",
       "  </tbody>\n",
       "</table>\n",
       "</div>"
      ],
      "text/plain": [
       "   Type sflow_agent_address  inputPort  outputPort       src_Mac  \\\n",
       "0  FLOW         aa.aa.aa.aa        137         200  d404ff55fd4d   \n",
       "1  FLOW         aa.aa.aa.aa        129         193  609c9f851b00   \n",
       "2  FLOW         aa.aa.aa.aa        137         200  d404ff55fd4d   \n",
       "3  FLOW         aa.aa.aa.aa        129         135  609c9f851b00   \n",
       "4  FLOW         aa.aa.aa.aa        130         199  00239cd087c1   \n",
       "\n",
       "        dst_Mac ethernet_type  in_vlan  out_vlan          src_ip  \\\n",
       "0  80711fc76001        0x0800    919.0       280  130.246.176.22   \n",
       "1  0031466b23cf        0x0800     11.0       919   155.69.160.32   \n",
       "2  80711fc76001        0x0800    919.0       280  130.246.176.53   \n",
       "3  002688cd5fc7        0x0800     11.0       919   155.69.160.32   \n",
       "4  544b8cf9a7df        0x0800    919.0       600  137.132.228.15   \n",
       "\n",
       "           dst_ip  IP_protocol ip_tos  ip_ttl  upd_src_port/tcp_src_port  \\\n",
       "0   140.115.32.81            6   0x00      50                    51216.0   \n",
       "1  64.233.188.128            6   0x00      56                    23159.0   \n",
       "2   140.115.32.83            6   0x00      50                    50041.0   \n",
       "3   54.169.174.79           17   0x00     120                    54241.0   \n",
       "4    193.62.192.8            6   0x00      56                    53923.0   \n",
       "\n",
       "   udp_dst_port/tcp_dst_port tcp_flags  packet_size  IP_Size  sampling_rate  \n",
       "0                      23505      0x10         1518     1500           2048  \n",
       "1                         80      0x10           74       52           2048  \n",
       "2                      20739      0x10         1518     1500           2048  \n",
       "3                      26510      0x10          116       94           2048  \n",
       "4                      34262      0x10           70       52           2048  "
      ]
     },
     "execution_count": 2,
     "metadata": {},
     "output_type": "execute_result"
    }
   ],
   "source": [
    "colName = ['Type', 'sflow_agent_address', 'inputPort', 'outputPort', 'src_Mac', 'dst_Mac', 'ethernet_type', 'in_vlan', 'out_vlan', 'src_ip', 'dst_ip', 'IP_protocol', 'ip_tos', 'ip_ttl', 'upd_src_port/tcp_src_port', 'udp_dst_port/tcp_dst_port' , 'tcp_flags', 'packet_size', 'IP_Size', 'sampling_rate']\n",
    "SFlow = pd.read_csv('./SFlow_Data_lab4.csv', header = None, names=colName, index_col=False)\n",
    "SFlow.head()"
   ]
  },
  {
   "cell_type": "markdown",
   "metadata": {},
   "source": [
    "#### EXERCISE 4A: TOP TALKERS AND LISTENERS\n",
    "\n",
    "One of the most commonly used function in analyzing data log is finding out the IP address of the hosts that send out large amount of packet and hosts that receive large number of packets, usually know as TOP TALKERS and LISTENERS.  Based on the IP address we can obtained the organization who owns the IP address. \n",
    "\n",
    "\n",
    "The organizations are found using the link https://whatismyipaddress.com/"
   ]
  },
  {
   "cell_type": "code",
   "execution_count": 3,
   "metadata": {},
   "outputs": [
    {
     "data": {
      "text/plain": [
       "src_ip       \n",
       "193.62.192.8     3041\n",
       "155.69.160.32    2975\n",
       "130.14.250.11    2604\n",
       "14.139.196.58    2452\n",
       "140.112.8.139    2056\n",
       "dtype: int64"
      ]
     },
     "execution_count": 3,
     "metadata": {},
     "output_type": "execute_result"
    }
   ],
   "source": [
    "#aim is to find the top 5 talkers using IP address\n",
    "table1 = SFlow.loc[SFlow['Type'] == 'FLOW']\n",
    "table1 = pd.DataFrame(table1['src_ip'])\n",
    "Top5Talkers = table1.value_counts()\n",
    "Top5Talkers.head()"
   ]
  },
  {
   "cell_type": "code",
   "execution_count": 4,
   "metadata": {},
   "outputs": [
    {
     "data": {
      "text/plain": [
       "dst_ip         \n",
       "103.37.198.100     3841\n",
       "137.132.228.15     3715\n",
       "202.21.159.244     2446\n",
       "192.101.107.153    2368\n",
       "103.21.126.2       2056\n",
       "dtype: int64"
      ]
     },
     "execution_count": 4,
     "metadata": {},
     "output_type": "execute_result"
    }
   ],
   "source": [
    "#aim is to find the top 5 listeners using IP address\n",
    "table1 = SFlow.loc[SFlow['Type'] == 'FLOW']\n",
    "table1 = pd.DataFrame(table1['dst_ip'])\n",
    "Top5Listeners= table1.value_counts()\n",
    "Top5Listeners.head()\n"
   ]
  },
  {
   "cell_type": "markdown",
   "metadata": {},
   "source": [
    "#### EXERCISE 4B: TRANSPORT PROTOCOL \n",
    "\n",
    "Using the IP protocol type attribute, determine the percentage of TCP and UDP protocol"
   ]
  },
  {
   "cell_type": "code",
   "execution_count": 5,
   "metadata": {},
   "outputs": [
    {
     "name": "stdout",
     "output_type": "stream",
     "text": [
      "   IP_Protocol  packets\n",
      "0            6    56064\n",
      "1           17     9462\n",
      "2           50     1698\n",
      "3            0     1261\n",
      "4           47      657\n",
      "5           41      104\n",
      "6            1       74\n",
      "7          381       45\n",
      "8           58        4\n",
      "9          103        1\n",
      "\n",
      "Total number of packets sent :  69370\n",
      "Percentage of UDP            :  13.639901974917112\n",
      "Percentage of TCP            :  80.81879775118928\n"
     ]
    }
   ],
   "source": [
    "table1 = pd.DataFrame(SFlow['IP_protocol']) #take out IP_protocol only\n",
    "IPprotocol = table1.value_counts() #count the number of unique occurrences\n",
    "IPprotocol = IPprotocol.to_frame().reset_index() #reset the index\n",
    "IPprotocol.columns = [\"IP_Protocol\", \"packets\"] #rename the column\n",
    "print(IPprotocol) #print the table\n",
    "totalpackets = IPprotocol['packets'].sum()\n",
    "print()\n",
    "# printing all the statistics\n",
    "print(\"Total number of packets sent : \", totalpackets)\n",
    "print(\"Percentage of UDP\", 10*\" \", \": \", np.array(IPprotocol.loc[IPprotocol['IP_Protocol'] == 17])[0][1]/totalpackets*100)\n",
    "print(\"Percentage of TCP\", 10*\" \", \": \", np.array(IPprotocol.loc[IPprotocol['IP_Protocol'] == 6])[0][1]/totalpackets*100)"
   ]
  },
  {
   "cell_type": "markdown",
   "metadata": {},
   "source": [
    "#### EXERCISE 4C: APPLICATIONS PROTOCOL\n",
    "\n",
    "Using the Destination IP port number determine the most frequently used application protocol.\n",
    "(For finding the service given the port number https://www.adminsub.net/tcp-udp-port-finder/ )\n"
   ]
  },
  {
   "cell_type": "code",
   "execution_count": 6,
   "metadata": {},
   "outputs": [
    {
     "name": "stdout",
     "output_type": "stream",
     "text": [
      "   udp_dst_port/tcp_dst_port  packets\n",
      "0                        443    13423\n",
      "1                         80     2647\n",
      "2                      52866     2068\n",
      "3                      45512     1356\n",
      "4                      56152     1341\n",
      "\n",
      "Total number of packets sent :  69370\n"
     ]
    }
   ],
   "source": [
    "table1 = pd.DataFrame(SFlow['udp_dst_port/tcp_dst_port'])\n",
    "Top5Apps = table1.value_counts()\n",
    "Top5Apps = Top5Apps.to_frame().reset_index()\n",
    "Top5Apps.columns = [\"udp_dst_port/tcp_dst_port\", \"packets\"]\n",
    "print(Top5Apps.head(5))\n",
    "totalpackets = Top5Apps['packets'].sum()\n",
    "print()\n",
    "print(\"Total number of packets sent : \", totalpackets)"
   ]
  },
  {
   "cell_type": "markdown",
   "metadata": {},
   "source": [
    "#### EXERCISE 4D: TRAFFIC \n",
    "\n",
    "The traffic intensity is an important parameter that a network engineer needs to monitor closely to determine if there is congestion. You would use the IP packet size to calculate the estimated total traffic over the monitored period of 15 seconds. (Assume the sampling rate is 1 in 2048)  \n",
    "\n",
    "IP packet size corresponds to the IP_Size column name "
   ]
  },
  {
   "cell_type": "code",
   "execution_count": 7,
   "metadata": {},
   "outputs": [
    {
     "name": "stdout",
     "output_type": "stream",
     "text": [
      "Total Traffic (MB) :  132664.979456\n"
     ]
    }
   ],
   "source": [
    "table1 = pd.DataFrame(SFlow['IP_Size'])\n",
    "totalbytes = table1.sum()\n",
    "totalMB = totalbytes / 1000 /1000 * 2048\n",
    "print(\"Total Traffic (MB) : \", np.array(totalMB)[0])"
   ]
  },
  {
   "cell_type": "markdown",
   "metadata": {},
   "source": [
    "#### EXERCISE 4E: ADDITIONAL ANALYSIS \n",
    "\n",
    "Please append ONE page to provide additional analysis of the data and the insight it provides.\n",
    "Examples include:\n",
    "Top 5 communication pairs; \n",
    "Visualization of communications between different IP hosts;\n",
    "etc.\n",
    "Please limit your results within one page (and any additional results that fall beyond one page limit will not be assessed). \n"
   ]
  },
  {
   "cell_type": "markdown",
   "metadata": {},
   "source": [
    "#### Finding the top 5 communication pair\n",
    "\n",
    "We have to take into account the fact that src --> dst and dst --> src both have to be counted as a communication pair. For example, two such entries: \n",
    "\n",
    "src             |      dst\n",
    "137.132.228.15     193.62.192.8  \n",
    "193.62.192.8       137.132.228.15\n",
    "\n",
    "\n",
    "means between the IP addresses `137.132.228.15` and `193.62.192.8`   there have been **2** communications."
   ]
  },
  {
   "cell_type": "code",
   "execution_count": 8,
   "metadata": {},
   "outputs": [
    {
     "name": "stdout",
     "output_type": "stream",
     "text": [
      "             IP_1             IP_2  count\n",
      "0  137.132.228.15     193.62.192.8   4951\n",
      "1   130.14.250.11   103.37.198.100   2842\n",
      "2   14.139.196.58  192.101.107.153   2368\n",
      "3    103.21.126.2    140.112.8.139   2056\n",
      "4    167.205.52.8    140.90.101.61   1752\n"
     ]
    }
   ],
   "source": [
    "#make this neater\n",
    "table1 = pd.DataFrame(SFlow[['src_ip', 'dst_ip']])\n",
    "table2 = pd.DataFrame(SFlow[['src_ip', 'dst_ip']])\n",
    "table1.rename(columns = {'dst_ip': 'IP1', 'src_ip': 'IP2'}, inplace = True)\n",
    "table2.rename(columns = {'dst_ip': 'IP2', 'src_ip': 'IP1'}, inplace = True)\n",
    "finaltable = pd.concat([table1, table2])\n",
    "commpair = (finaltable.groupby(['IP1', 'IP2'])).size().sort_values(ascending=False).reset_index(name='count')\n",
    "commpair['index'] = commpair.index\n",
    "df_1 = commpair[['IP1', 'index', 'count']]\n",
    "df_2 = commpair[['IP2', 'index', 'count']]\n",
    "df_1.columns = ['IP', 'index', 'count']\n",
    "df_2.columns = ['IP', 'index', 'count']\n",
    "df_1['source'] = 1\n",
    "df_2['source'] = 2\n",
    "df = pd.concat([df_1, df_2])\n",
    "out = df.sort_values(['index']).drop_duplicates(['IP'], keep='first')\n",
    "df_1_out = out[out['source'] == 1][['IP', 'count', 'index']]\n",
    "df_2_out = out[out['source'] == 2][['IP', 'count', 'index']]\n",
    "final = df_1_out.merge(df_2_out, on='index', suffixes=('_1', '_2')).drop('index', axis=1)\n",
    "final = final.drop(columns = ['count_1'])\n",
    "final.rename(columns = {'count_2': 'count'}, inplace=True)\n",
    "#view the top 5 commmunication pairs\n",
    "print(final.head(5))\n"
   ]
  },
  {
   "cell_type": "markdown",
   "metadata": {},
   "source": [
    "#### Visualizing these communication pairs (By IP Address)\n",
    "There are two parts to this:\n",
    "1. Visualising based on the IP address of the sending and receiving hosts\n",
    "2. Based on the location where these IP addresses are originating from"
   ]
  },
  {
   "cell_type": "code",
   "execution_count": 9,
   "metadata": {
    "scrolled": true
   },
   "outputs": [],
   "source": [
    "commpair = final.head(500)"
   ]
  },
  {
   "cell_type": "code",
   "execution_count": 10,
   "metadata": {},
   "outputs": [
    {
     "name": "stdout",
     "output_type": "stream",
     "text": [
      "Requirement already satisfied: pyvis in c:\\users\\samik\\anaconda3\\lib\\site-packages (0.1.9)\n",
      "Requirement already satisfied: networkx>=1.11 in c:\\users\\samik\\anaconda3\\lib\\site-packages (from pyvis) (2.5)\n",
      "Requirement already satisfied: jsonpickle>=1.4.1 in c:\\users\\samik\\anaconda3\\lib\\site-packages (from pyvis) (2.1.0)\n",
      "Requirement already satisfied: ipython>=5.3.0 in c:\\users\\samik\\anaconda3\\lib\\site-packages (from pyvis) (7.19.0)\n",
      "Requirement already satisfied: jinja2>=2.9.6 in c:\\users\\samik\\anaconda3\\lib\\site-packages (from pyvis) (2.11.2)\n",
      "Requirement already satisfied: decorator>=4.3.0 in c:\\users\\samik\\anaconda3\\lib\\site-packages (from networkx>=1.11->pyvis) (4.4.2)\n",
      "Requirement already satisfied: prompt-toolkit!=3.0.0,!=3.0.1,<3.1.0,>=2.0.0 in c:\\users\\samik\\anaconda3\\lib\\site-packages (from ipython>=5.3.0->pyvis) (3.0.8)\n",
      "Requirement already satisfied: pygments in c:\\users\\samik\\anaconda3\\lib\\site-packages (from ipython>=5.3.0->pyvis) (2.7.2)\n",
      "Requirement already satisfied: colorama; sys_platform == \"win32\" in c:\\users\\samik\\anaconda3\\lib\\site-packages (from ipython>=5.3.0->pyvis) (0.4.4)\n",
      "Requirement already satisfied: backcall in c:\\users\\samik\\anaconda3\\lib\\site-packages (from ipython>=5.3.0->pyvis) (0.2.0)\n",
      "Requirement already satisfied: pickleshare in c:\\users\\samik\\anaconda3\\lib\\site-packages (from ipython>=5.3.0->pyvis) (0.7.5)\n",
      "Requirement already satisfied: jedi>=0.10 in c:\\users\\samik\\anaconda3\\lib\\site-packages (from ipython>=5.3.0->pyvis) (0.17.1)\n",
      "Requirement already satisfied: traitlets>=4.2 in c:\\users\\samik\\anaconda3\\lib\\site-packages (from ipython>=5.3.0->pyvis) (5.0.5)\n",
      "Requirement already satisfied: setuptools>=18.5 in c:\\users\\samik\\anaconda3\\lib\\site-packages (from ipython>=5.3.0->pyvis) (50.3.1.post20201107)\n",
      "Requirement already satisfied: MarkupSafe>=0.23 in c:\\users\\samik\\anaconda3\\lib\\site-packages (from jinja2>=2.9.6->pyvis) (1.1.1)\n",
      "Requirement already satisfied: wcwidth in c:\\users\\samik\\anaconda3\\lib\\site-packages (from prompt-toolkit!=3.0.0,!=3.0.1,<3.1.0,>=2.0.0->ipython>=5.3.0->pyvis) (0.2.5)\n",
      "Requirement already satisfied: parso<0.8.0,>=0.7.0 in c:\\users\\samik\\anaconda3\\lib\\site-packages (from jedi>=0.10->ipython>=5.3.0->pyvis) (0.7.0)\n",
      "Requirement already satisfied: ipython-genutils in c:\\users\\samik\\anaconda3\\lib\\site-packages (from traitlets>=4.2->ipython>=5.3.0->pyvis) (0.2.0)\n"
     ]
    }
   ],
   "source": [
    "import sys\n",
    "!{sys.executable} -m pip install pyvis"
   ]
  },
  {
   "cell_type": "code",
   "execution_count": 11,
   "metadata": {
    "scrolled": false
   },
   "outputs": [],
   "source": [
    "from pyvis.network import Network"
   ]
  },
  {
   "cell_type": "code",
   "execution_count": 12,
   "metadata": {
    "scrolled": false
   },
   "outputs": [],
   "source": [
    "commgraph = Network(notebook = True)\n",
    "#firstly must have a unique list of ip hosts\n",
    "iphost = pd.DataFrame(commpair[['IP_1']])\n",
    "iphost2 = pd.DataFrame(commpair[['IP_2']])\n",
    "iphost.rename(columns = {'IP_1': 'IP'}, inplace = True)\n",
    "iphost2.rename(columns = {'IP_2': 'IP'}, inplace = True)\n",
    "finaltable = pd.concat([iphost, iphost2])\n",
    "finaltable = finaltable.drop_duplicates('IP').reset_index(drop=True)\n",
    "#print(finaltable)\n",
    "for i in finaltable.index:\n",
    "    commgraph.add_node(str(finaltable.loc[i, \"IP\"]))\n",
    "\n",
    "#commgraph.show('nodes.html')"
   ]
  },
  {
   "cell_type": "code",
   "execution_count": 13,
   "metadata": {
    "scrolled": false
   },
   "outputs": [
    {
     "data": {
      "text/html": [
       "\n",
       "        <iframe\n",
       "            width=\"500px\"\n",
       "            height=\"500px\"\n",
       "            src=\"nodes.html\"\n",
       "            frameborder=\"0\"\n",
       "            allowfullscreen\n",
       "        ></iframe>\n",
       "        "
      ],
      "text/plain": [
       "<IPython.lib.display.IFrame at 0x2e43c5f6a60>"
      ]
     },
     "execution_count": 13,
     "metadata": {},
     "output_type": "execute_result"
    }
   ],
   "source": [
    "# the list of edges is stored in commpair\n",
    "for i in commpair.index:\n",
    "    commgraph.add_edge(str(commpair.loc[i, \"IP_1\"]), str(commpair.loc[i, \"IP_2\"]), value = int(commpair.loc[i, \"count\"]))\n",
    "    \n",
    "commgraph.show_buttons(filter_=True)\n",
    "commgraph.show('nodes.html')"
   ]
  },
  {
   "cell_type": "markdown",
   "metadata": {},
   "source": [
    "#### Visualizing these communication pairs (By Location)\n",
    "There are two parts to this:\n",
    "1. Visualising based on the IP address of the sending and receiving hosts\n",
    "2. Based on the location where these IP addresses are originating from"
   ]
  },
  {
   "cell_type": "code",
   "execution_count": 14,
   "metadata": {},
   "outputs": [
    {
     "name": "stdout",
     "output_type": "stream",
     "text": [
      "Requirement already satisfied: IP2Location in c:\\users\\samik\\anaconda3\\lib\\site-packages (8.7.2)\n",
      "Singapore\n",
      "SG\n"
     ]
    }
   ],
   "source": [
    "!{sys.executable} -m pip install IP2Location\n",
    "import os\n",
    "import IP2Location\n",
    "\n",
    "ip = '137.132.228.15'\n",
    "\n",
    "database = IP2Location.IP2Location(os.path.join(\"IP-COUNTRY.BIN\"))\n",
    "\n",
    "rec = database.get_all(ip)\n",
    "print(rec.country_long)\n",
    "print(rec.country_short)"
   ]
  },
  {
   "cell_type": "code",
   "execution_count": 15,
   "metadata": {},
   "outputs": [],
   "source": [
    "locgraph = Network(notebook = True)\n",
    "for i in finaltable.index:\n",
    "    rec = database.get_all(str(finaltable.loc[i, \"IP\"]))\n",
    "    if (rec.country_long != 'INVALID IP ADDRESS' and rec.country_long != 'IPV6 ADDRESS MISSING IN IPV4 BIN' and rec.country_long != '-'):\n",
    "        locgraph.add_node(str(rec.country_long))\n"
   ]
  },
  {
   "cell_type": "code",
   "execution_count": 16,
   "metadata": {
    "scrolled": false
   },
   "outputs": [
    {
     "data": {
      "text/html": [
       "\n",
       "        <iframe\n",
       "            width=\"500px\"\n",
       "            height=\"500px\"\n",
       "            src=\"locgraph.html\"\n",
       "            frameborder=\"0\"\n",
       "            allowfullscreen\n",
       "        ></iframe>\n",
       "        "
      ],
      "text/plain": [
       "<IPython.lib.display.IFrame at 0x2e4406bf7c0>"
      ]
     },
     "execution_count": 16,
     "metadata": {},
     "output_type": "execute_result"
    }
   ],
   "source": [
    "# the list of edges is stored in commpair\n",
    "\n",
    "for i in commpair.index:\n",
    "    rec1 = database.get_all(str(commpair.loc[i, \"IP_1\"]))\n",
    "    city1 = str(rec1.country_long)\n",
    "    rec2 = database.get_all(str(commpair.loc[i, \"IP_2\"]))\n",
    "    city2 = str(rec2.country_long)\n",
    "   \n",
    "    if (city1 != 'INVALID IP ADDRESS' and city1 != 'IPV6 ADDRESS MISSING IN IPV4 BIN' and city1 != '-'):\n",
    "        if (city2 != 'INVALID IP ADDRESS' and city2 != 'IPV6 ADDRESS MISSING IN IPV4 BIN' and city2 != '-'):\n",
    "            #print(city1, city2)\n",
    "            locgraph.add_edge(city1, city2, value = int(commpair.loc[i, \"count\"]))\n",
    "\n",
    "            \n",
    "locgraph.repulsion(node_distance=70, spring_length=250)\n",
    "locgraph.show_buttons(filter_=True)\n",
    "locgraph.show('locgraph.html')"
   ]
  },
  {
   "cell_type": "code",
   "execution_count": null,
   "metadata": {},
   "outputs": [],
   "source": []
  }
 ],
 "metadata": {
  "kernelspec": {
   "display_name": "Python 3",
   "language": "python",
   "name": "python3"
  },
  "language_info": {
   "codemirror_mode": {
    "name": "ipython",
    "version": 3
   },
   "file_extension": ".py",
   "mimetype": "text/x-python",
   "name": "python",
   "nbconvert_exporter": "python",
   "pygments_lexer": "ipython3",
   "version": "3.8.5"
  }
 },
 "nbformat": 4,
 "nbformat_minor": 4
}
